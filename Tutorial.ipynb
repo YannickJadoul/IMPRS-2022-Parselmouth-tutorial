{
 "cells": [
  {
   "cell_type": "markdown",
   "id": "0c681830",
   "metadata": {
    "slideshow": {
     "slide_type": "slide"
    }
   },
   "source": [
    "# Parselmouth, a tutorial"
   ]
  },
  {
   "cell_type": "markdown",
   "id": "7f1d290a",
   "metadata": {
    "slideshow": {
     "slide_type": "slide"
    }
   },
   "source": [
    "## Introduction"
   ]
  },
  {
   "cell_type": "markdown",
   "id": "422450ea",
   "metadata": {
    "slideshow": {
     "slide_type": "subslide"
    }
   },
   "source": [
    "### Installation\n",
    "\n",
    "Install Parselmouth by installing the `praat-parselmouth` package from PyPI.\n",
    "\n",
    "Do not - do or do not? I repeat, do not! - install `parselmouth`, as it is another package. _(Sorry for the confusion.)_"
   ]
  },
  {
   "cell_type": "code",
   "execution_count": null,
   "id": "8662845a",
   "metadata": {
    "slideshow": {
     "slide_type": "-"
    }
   },
   "outputs": [],
   "source": [
    "!pip install praat-parselmouth"
   ]
  },
  {
   "cell_type": "markdown",
   "id": "b9ea9388",
   "metadata": {
    "slideshow": {
     "slide_type": "fragment"
    }
   },
   "source": [
    "And these are some other things you should have installed to run demo:"
   ]
  },
  {
   "cell_type": "code",
   "execution_count": null,
   "id": "43b6619b",
   "metadata": {
    "slideshow": {
     "slide_type": "-"
    }
   },
   "outputs": [],
   "source": [
    "!pip install numpy matplotlib tgt"
   ]
  },
  {
   "cell_type": "markdown",
   "id": "e297c579",
   "metadata": {
    "slideshow": {
     "slide_type": "subslide"
    }
   },
   "source": [
    "### Let's get started"
   ]
  },
  {
   "cell_type": "code",
   "execution_count": null,
   "id": "ada14132",
   "metadata": {
    "slideshow": {
     "slide_type": "-"
    }
   },
   "outputs": [],
   "source": [
    "import parselmouth"
   ]
  },
  {
   "cell_type": "code",
   "execution_count": null,
   "id": "35747b4f",
   "metadata": {
    "slideshow": {
     "slide_type": "-"
    }
   },
   "outputs": [],
   "source": [
    "import numpy as np"
   ]
  },
  {
   "cell_type": "code",
   "execution_count": null,
   "id": "f4606938",
   "metadata": {
    "slideshow": {
     "slide_type": "-"
    }
   },
   "outputs": [],
   "source": [
    "parselmouth.__version__"
   ]
  },
  {
   "cell_type": "code",
   "execution_count": null,
   "id": "de612137",
   "metadata": {
    "slideshow": {
     "slide_type": "-"
    }
   },
   "outputs": [],
   "source": [
    "parselmouth.PRAAT_VERSION, parselmouth.PRAAT_VERSION_DATE"
   ]
  },
  {
   "cell_type": "markdown",
   "id": "f0a2f98e",
   "metadata": {
    "slideshow": {
     "slide_type": "subslide"
    }
   },
   "source": [
    "### What's to come?\n",
    "\n",
    "- That one example from before\n",
    "- Fantastic Praat objects and how to plot them\n",
    "- Accessing \"raw\" Praat commands\n",
    "- Running Praat scripts\n",
    "- Getting annotations from TextGrids\n",
    "- One language to rule them all: accessing R"
   ]
  },
  {
   "cell_type": "markdown",
   "id": "89a2369d",
   "metadata": {
    "slideshow": {
     "slide_type": "fragment"
    }
   },
   "source": [
    "**Main goal: how to map a Praat workflow to Parselmouth**\n",
    "\n",
    "_(in other words: the examples might seem a bit artificial/simplistic, but try to find the principles)_"
   ]
  },
  {
   "cell_type": "markdown",
   "id": "c0ca8fd6",
   "metadata": {
    "slideshow": {
     "slide_type": "subslide"
    }
   },
   "source": [
    "### Synchronisation point\n",
    "\n",
    "- Questions/issues/... ?\n",
    "- https://parselmouth.readthedocs.io/"
   ]
  },
  {
   "cell_type": "markdown",
   "id": "8e987cf6",
   "metadata": {
    "slideshow": {
     "slide_type": "slide"
    }
   },
   "source": [
    "## That one example from before"
   ]
  },
  {
   "cell_type": "code",
   "execution_count": null,
   "id": "20462a3f",
   "metadata": {
    "slideshow": {
     "slide_type": "subslide"
    }
   },
   "outputs": [],
   "source": [
    "import parselmouth\n",
    "\n",
    "def extract_info(sound):\n",
    "    pitch = sound.to_pitch(time_step=0.001, pitch_ceiling=300)\n",
    "    intensity = sound.to_intensity(75, 0.001, subtract_mean=False)\n",
    "\n",
    "    print(\"Here are the results:\")\n",
    "    for i in range(int((sound.tmax - sound.tmin) / 0.01)):\n",
    "        time = sound.tmin + (i + 1) * 0.01\n",
    "        p_value = pitch.get_value_at_time(time)\n",
    "        i_value = intensity.get_value(time)\n",
    "        print(f\"{time:.2f} {p_value:.3f} {i_value:.3f}\")\n",
    "        # Or, withouth f-strings: \"{:.2f} {:.3f} {:.3f}\".format(time, p_value, i_value)\n",
    "\n",
    "extract_info(parselmouth.Sound(\"data/the_north_wind_and_the_sun.wav\"))"
   ]
  },
  {
   "cell_type": "markdown",
   "id": "4aa8d5dd",
   "metadata": {
    "slideshow": {
     "slide_type": "subslide"
    }
   },
   "source": [
    "### Let's break that up into pieces"
   ]
  },
  {
   "cell_type": "code",
   "execution_count": null,
   "id": "e87c3294",
   "metadata": {
    "slideshow": {
     "slide_type": "-"
    }
   },
   "outputs": [],
   "source": [
    "sound = parselmouth.Sound(\"data/the_north_wind_and_the_sun.wav\")"
   ]
  },
  {
   "cell_type": "code",
   "execution_count": null,
   "id": "301e4b00",
   "metadata": {
    "slideshow": {
     "slide_type": "-"
    }
   },
   "outputs": [],
   "source": [
    "sound"
   ]
  },
  {
   "cell_type": "code",
   "execution_count": null,
   "id": "8d788971",
   "metadata": {
    "slideshow": {
     "slide_type": "-"
    }
   },
   "outputs": [],
   "source": [
    "print(sound)"
   ]
  },
  {
   "cell_type": "markdown",
   "id": "d8fffda8",
   "metadata": {
    "slideshow": {
     "slide_type": "subslide"
    }
   },
   "source": [
    "### Seems familiar?\n",
    "\n",
    "![praat_objects_and_info.png](images/praat_objects_and_info.png)"
   ]
  },
  {
   "cell_type": "code",
   "execution_count": null,
   "id": "26774dba",
   "metadata": {
    "slideshow": {
     "slide_type": "subslide"
    }
   },
   "outputs": [],
   "source": [
    "samples = np.sin(2 * np.pi * 440 * np.arange(16000) / 16000)\n",
    "samples\n",
    "sound = parselmouth.Sound(samples, sampling_frequency=16000)\n",
    "print(sound)"
   ]
  },
  {
   "cell_type": "code",
   "execution_count": null,
   "id": "ae9ae497",
   "metadata": {
    "slideshow": {
     "slide_type": "fragment"
    }
   },
   "outputs": [],
   "source": [
    "sound = parselmouth.Sound(\"data/the_north_wind_and_the_sun.wav\")"
   ]
  },
  {
   "cell_type": "markdown",
   "id": "94717657",
   "metadata": {
    "slideshow": {
     "slide_type": "subslide"
    }
   },
   "source": [
    "### Intensity and Pitch"
   ]
  },
  {
   "cell_type": "code",
   "execution_count": null,
   "id": "9f5fb30f",
   "metadata": {
    "slideshow": {
     "slide_type": "-"
    }
   },
   "outputs": [],
   "source": [
    "pitch = sound.to_pitch(time_step=0.001, pitch_ceiling=300)\n",
    "pitch"
   ]
  },
  {
   "cell_type": "code",
   "execution_count": null,
   "id": "8cd508e1",
   "metadata": {
    "slideshow": {
     "slide_type": "-"
    }
   },
   "outputs": [],
   "source": [
    "pitch.get_value_at_time(0.5)"
   ]
  },
  {
   "cell_type": "markdown",
   "id": "d2621121",
   "metadata": {
    "slideshow": {
     "slide_type": "subslide"
    }
   },
   "source": [
    "![praat_pitch_value.png](images/praat_pitch_get_value.png)"
   ]
  },
  {
   "cell_type": "markdown",
   "id": "7654ef32",
   "metadata": {
    "slideshow": {
     "slide_type": "subslide"
    }
   },
   "source": [
    "![praat_pitch_value.png](images/praat_pitch_value.png)"
   ]
  },
  {
   "cell_type": "code",
   "execution_count": null,
   "id": "fbc805db",
   "metadata": {
    "slideshow": {
     "slide_type": "subslide"
    }
   },
   "outputs": [],
   "source": [
    "intensity = sound.to_intensity(75, 0.001, subtract_mean=False)\n",
    "intensity"
   ]
  },
  {
   "cell_type": "code",
   "execution_count": null,
   "id": "6d3801f0",
   "metadata": {
    "slideshow": {
     "slide_type": "-"
    }
   },
   "outputs": [],
   "source": [
    "intensity.get_value(0.5)"
   ]
  },
  {
   "cell_type": "code",
   "execution_count": null,
   "id": "5632a469",
   "metadata": {
    "slideshow": {
     "slide_type": "-"
    }
   },
   "outputs": [],
   "source": [
    "sound.tmin, sound.tmax"
   ]
  },
  {
   "cell_type": "markdown",
   "id": "6298bc00",
   "metadata": {
    "slideshow": {
     "slide_type": "subslide"
    }
   },
   "source": [
    "### And that's all Python-Praat interaction\n",
    "\n",
    "The rest is Python!"
   ]
  },
  {
   "cell_type": "code",
   "execution_count": null,
   "id": "45bcfbcf",
   "metadata": {
    "slideshow": {
     "slide_type": "-"
    }
   },
   "outputs": [],
   "source": [
    "import parselmouth\n",
    "\n",
    "def extract_info(sound):\n",
    "    pitch = sound.to_pitch(time_step=0.001, pitch_ceiling=300)\n",
    "    intensity = sound.to_intensity(75, 0.001, subtract_mean=False)\n",
    "\n",
    "    print(\"Here are the results:\")\n",
    "    for i in range(int((sound.tmax - sound.tmin) / 0.01)):\n",
    "        time = sound.tmin + (i + 1) * 0.01\n",
    "        p_value = pitch.get_value_at_time(time)\n",
    "        i_value = intensity.get_value(time)\n",
    "        print(f\"{time:.2f} {p_value:.3f} {i_value:.3f}\")\n",
    "\n",
    "extract_info(parselmouth.Sound(\"data/the_north_wind_and_the_sun.wav\"))"
   ]
  },
  {
   "cell_type": "markdown",
   "id": "7931bdcd",
   "metadata": {
    "slideshow": {
     "slide_type": "subslide"
    }
   },
   "source": [
    "### Synchronisation point\n",
    "\n",
    "- https://parselmouth.readthedocs.io/en/stable/api_reference.html#parselmouth.Sound\n",
    "- Change pitch/intensity extraction step to auto\n",
    "- Extract formant analysis and print first 2 formants"
   ]
  },
  {
   "cell_type": "markdown",
   "id": "aea81aef",
   "metadata": {
    "slideshow": {
     "slide_type": "slide"
    }
   },
   "source": [
    "## Fantastic Praat objects and how to plot them"
   ]
  },
  {
   "cell_type": "markdown",
   "id": "82134afe",
   "metadata": {
    "slideshow": {
     "slide_type": "subslide"
    }
   },
   "source": [
    "Two goals at once:\n",
    "1. How to make nice plots and integrate Praat (Parselmouth) into Python plotting libraries\n",
    "2. How to access the actual data to be plotting **(!)**"
   ]
  },
  {
   "cell_type": "code",
   "execution_count": null,
   "id": "dd3c4f3a",
   "metadata": {
    "slideshow": {
     "slide_type": "fragment"
    }
   },
   "outputs": [],
   "source": [
    "sound = parselmouth.Sound(\"data/the_north_wind_and_the_sun.wav\")  # Or \"data/hoover.wav\"\n",
    "sound"
   ]
  },
  {
   "cell_type": "code",
   "execution_count": null,
   "id": "7e69201f",
   "metadata": {
    "slideshow": {
     "slide_type": "-"
    }
   },
   "outputs": [],
   "source": [
    "help(sound.get_value)"
   ]
  },
  {
   "cell_type": "code",
   "execution_count": null,
   "id": "369c2b81",
   "metadata": {
    "slideshow": {
     "slide_type": "fragment"
    }
   },
   "outputs": [],
   "source": [
    "sound.n_channels"
   ]
  },
  {
   "cell_type": "code",
   "execution_count": null,
   "id": "561a607a",
   "metadata": {
    "slideshow": {
     "slide_type": "-"
    }
   },
   "outputs": [],
   "source": [
    "sound.get_value(0.5, 1)"
   ]
  },
  {
   "cell_type": "code",
   "execution_count": null,
   "id": "155a78a3",
   "metadata": {
    "slideshow": {
     "slide_type": "subslide"
    }
   },
   "outputs": [],
   "source": [
    "sound.values"
   ]
  },
  {
   "cell_type": "code",
   "execution_count": null,
   "id": "e78e130b",
   "metadata": {
    "slideshow": {
     "slide_type": "-"
    }
   },
   "outputs": [],
   "source": [
    "type(sound.values), sound.values.shape"
   ]
  },
  {
   "cell_type": "code",
   "execution_count": null,
   "id": "6f496860",
   "metadata": {
    "slideshow": {
     "slide_type": "-"
    }
   },
   "outputs": [],
   "source": [
    "sound.values[0,:-100:2]"
   ]
  },
  {
   "cell_type": "code",
   "execution_count": null,
   "id": "73aac25d",
   "metadata": {
    "slideshow": {
     "slide_type": "fragment"
    }
   },
   "outputs": [],
   "source": [
    "parselmouth.Sound.__mro__  # Subclass of parselmouth.Matrix"
   ]
  },
  {
   "cell_type": "code",
   "execution_count": null,
   "id": "65d3b240",
   "metadata": {
    "slideshow": {
     "slide_type": "subslide"
    }
   },
   "outputs": [],
   "source": [
    "from IPython.display import Audio\n",
    "\n",
    "Audio(sound.values, rate=sound.sampling_frequency)"
   ]
  },
  {
   "cell_type": "code",
   "execution_count": null,
   "id": "75260113",
   "metadata": {
    "slideshow": {
     "slide_type": "-"
    }
   },
   "outputs": [],
   "source": [
    "def audio_player(sound):\n",
    "    return Audio(sound.values, rate=sound.sampling_frequency)\n",
    "\n",
    "audio_player(parselmouth.Sound(\"data/the_north_wind_and_the_sun.wav\"))"
   ]
  },
  {
   "cell_type": "markdown",
   "id": "b1f7a6b5",
   "metadata": {
    "slideshow": {
     "slide_type": "subslide"
    }
   },
   "source": [
    "### Plotting the waveform"
   ]
  },
  {
   "cell_type": "code",
   "execution_count": null,
   "id": "6f35f6a4",
   "metadata": {
    "slideshow": {
     "slide_type": "-"
    }
   },
   "outputs": [],
   "source": [
    "import matplotlib.pyplot as plt\n",
    "%matplotlib inline\n",
    "plt.rcParams['figure.figsize'] = [9, 6]\n",
    "plt.rcParams['figure.dpi'] = 100"
   ]
  },
  {
   "cell_type": "code",
   "execution_count": null,
   "id": "afb4bd49",
   "metadata": {
    "slideshow": {
     "slide_type": "fragment"
    }
   },
   "outputs": [],
   "source": [
    "sound.values[0,:]"
   ]
  },
  {
   "cell_type": "code",
   "execution_count": null,
   "id": "ae5fad32",
   "metadata": {
    "slideshow": {
     "slide_type": "-"
    }
   },
   "outputs": [],
   "source": [
    "sound.x1 + np.arange(sound.nx) * sound.dx"
   ]
  },
  {
   "cell_type": "code",
   "execution_count": null,
   "id": "97c53c94",
   "metadata": {
    "slideshow": {
     "slide_type": "-"
    }
   },
   "outputs": [],
   "source": [
    "sound.xs()"
   ]
  },
  {
   "cell_type": "code",
   "execution_count": null,
   "id": "dd6d0078",
   "metadata": {
    "slideshow": {
     "slide_type": "subslide"
    }
   },
   "outputs": [],
   "source": [
    "fig, ax = plt.subplots()\n",
    "ax.plot(sound.xs(), sound.values[0,:])"
   ]
  },
  {
   "cell_type": "code",
   "execution_count": null,
   "id": "8bb365cc",
   "metadata": {
    "slideshow": {
     "slide_type": "subslide"
    }
   },
   "outputs": [],
   "source": [
    "fig, ax = plt.subplots()\n",
    "ax.plot(sound.xs(), sound.values[0,:], color='pink', linewidth=0.5)\n",
    "ax.set_xlim(sound.xmin, sound.xmax)\n",
    "ax.set_ylim(-1, 1)"
   ]
  },
  {
   "cell_type": "code",
   "execution_count": null,
   "id": "65b5b60a",
   "metadata": {
    "slideshow": {
     "slide_type": "subslide"
    }
   },
   "outputs": [],
   "source": [
    "sun_sound = sound.extract_part(from_time=0.9, preserve_times=True)\n",
    "audio_player(sun_sound)"
   ]
  },
  {
   "cell_type": "code",
   "execution_count": null,
   "id": "2b893359",
   "metadata": {
    "slideshow": {
     "slide_type": "-"
    }
   },
   "outputs": [],
   "source": [
    "def plot_waveform(ax, sound, **kwargs):\n",
    "    max_abs_val = np.max(np.abs(sound.values))\n",
    "    ax.plot(sound.xs(), sound.values[0,:], **kwargs)\n",
    "    ax.set_xlim(sound.xmin, sound.xmax)\n",
    "    ax.set_ylim(-1.2 * max_abs_val, 1.2 * max_abs_val)\n",
    "    ax.set_xlabel(\"time (s)\")\n",
    "    ax.set_ylabel(\"amplitude\")\n",
    "\n",
    "fig, ax = plt.subplots()\n",
    "plot_waveform(ax, sun_sound, linestyle='--', color='darkolivegreen')"
   ]
  },
  {
   "cell_type": "markdown",
   "id": "245c7880",
   "metadata": {
    "slideshow": {
     "slide_type": "subslide"
    }
   },
   "source": [
    "### And now a spectrogram"
   ]
  },
  {
   "cell_type": "code",
   "execution_count": null,
   "id": "7ebd222b",
   "metadata": {
    "slideshow": {
     "slide_type": "-"
    }
   },
   "outputs": [],
   "source": [
    "spectrogram = sound.to_spectrogram(window_length=0.03)\n",
    "spectrogram"
   ]
  },
  {
   "cell_type": "code",
   "execution_count": null,
   "id": "2cbb08e8",
   "metadata": {
    "slideshow": {
     "slide_type": "-"
    }
   },
   "outputs": [],
   "source": [
    "help(sound.to_spectrogram)"
   ]
  },
  {
   "cell_type": "code",
   "execution_count": null,
   "id": "8fcec607",
   "metadata": {
    "slideshow": {
     "slide_type": "subslide"
    }
   },
   "outputs": [],
   "source": [
    "isinstance(spectrogram, parselmouth.Matrix), issubclass(parselmouth.Spectrogram, parselmouth.Matrix)"
   ]
  },
  {
   "cell_type": "code",
   "execution_count": null,
   "id": "fbb18fcb",
   "metadata": {
    "slideshow": {
     "slide_type": "-"
    }
   },
   "outputs": [],
   "source": [
    "spectrogram.values"
   ]
  },
  {
   "cell_type": "code",
   "execution_count": null,
   "id": "621dc31e",
   "metadata": {
    "slideshow": {
     "slide_type": "-"
    }
   },
   "outputs": [],
   "source": [
    "spectrogram.values.shape, spectrogram.values.size"
   ]
  },
  {
   "cell_type": "code",
   "execution_count": null,
   "id": "ec4ff47d",
   "metadata": {
    "slideshow": {
     "slide_type": "-"
    }
   },
   "outputs": [],
   "source": [
    "spectrogram.values.base"
   ]
  },
  {
   "cell_type": "code",
   "execution_count": null,
   "id": "f88dd9d4",
   "metadata": {
    "slideshow": {
     "slide_type": "subslide"
    }
   },
   "outputs": [],
   "source": [
    "spectrogram.xs().shape, spectrogram.xs()"
   ]
  },
  {
   "cell_type": "code",
   "execution_count": null,
   "id": "493e4f51",
   "metadata": {
    "slideshow": {
     "slide_type": "-"
    }
   },
   "outputs": [],
   "source": [
    "spectrogram.x_grid().shape, spectrogram.x_grid()"
   ]
  },
  {
   "cell_type": "code",
   "execution_count": null,
   "id": "b89ab0d0",
   "metadata": {
    "slideshow": {
     "slide_type": "subslide"
    }
   },
   "outputs": [],
   "source": [
    "fig, ax = plt.subplots()\n",
    "ax.pcolormesh(spectrogram.x_grid(), spectrogram.y_grid(), spectrogram.values)"
   ]
  },
  {
   "cell_type": "code",
   "execution_count": null,
   "id": "6eba5216",
   "metadata": {
    "slideshow": {
     "slide_type": "subslide"
    }
   },
   "outputs": [],
   "source": [
    "fig, ax = plt.subplots()\n",
    "ax.pcolormesh(spectrogram.x_grid(), spectrogram.y_grid(), 10 * np.log10(spectrogram.values))"
   ]
  },
  {
   "cell_type": "code",
   "execution_count": null,
   "id": "06abf2eb",
   "metadata": {
    "slideshow": {
     "slide_type": "subslide"
    }
   },
   "outputs": [],
   "source": [
    "def draw_spectrogram(ax, spectrogram, dynamic_range=70, cmap='afmhot'):\n",
    "    X, Y = spectrogram.x_grid(), spectrogram.y_grid()\n",
    "    sg_db = 10 * np.log10(spectrogram.values)\n",
    "    ax.pcolormesh(X, Y, sg_db, vmin=sg_db.max() - dynamic_range, cmap=cmap)\n",
    "    ax.set_ylim(spectrogram.ymin, spectrogram.ymax)\n",
    "    ax.set_xlabel(\"time (s)\")\n",
    "    ax.set_ylabel(\"frequency (Hz)\")\n",
    "\n",
    "fig, ax = plt.subplots()\n",
    "draw_spectrogram(ax, spectrogram)"
   ]
  },
  {
   "cell_type": "code",
   "execution_count": null,
   "id": "9a59bdf7",
   "metadata": {
    "slideshow": {
     "slide_type": "subslide"
    }
   },
   "outputs": [],
   "source": [
    "fig, ax = plt.subplots()\n",
    "pre_emphasized_sound = sound.copy()\n",
    "pre_emphasized_sound.pre_emphasize()\n",
    "draw_spectrogram(ax, pre_emphasized_sound.to_spectrogram(window_length=0.005, maximum_frequency=16000))"
   ]
  },
  {
   "cell_type": "markdown",
   "id": "f2b47bfb",
   "metadata": {
    "slideshow": {
     "slide_type": "subslide"
    }
   },
   "source": [
    "### And the pitch contour"
   ]
  },
  {
   "cell_type": "code",
   "execution_count": null,
   "id": "41dc39ab",
   "metadata": {
    "slideshow": {
     "slide_type": "-"
    }
   },
   "outputs": [],
   "source": [
    "pitch = sound.to_pitch()\n",
    "pitch"
   ]
  },
  {
   "cell_type": "code",
   "execution_count": null,
   "id": "0d98f791",
   "metadata": {
    "slideshow": {
     "slide_type": "-"
    }
   },
   "outputs": [],
   "source": [
    "try:\n",
    "    pitch.values\n",
    "except Exception as e:\n",
    "    import traceback\n",
    "    traceback.print_exc()"
   ]
  },
  {
   "cell_type": "code",
   "execution_count": null,
   "id": "852368c7",
   "metadata": {
    "slideshow": {
     "slide_type": "-"
    }
   },
   "outputs": [],
   "source": [
    "pitch.get_frame(20)"
   ]
  },
  {
   "cell_type": "code",
   "execution_count": null,
   "id": "da374ec1",
   "metadata": {
    "slideshow": {
     "slide_type": "-"
    }
   },
   "outputs": [],
   "source": [
    "pitch.get_frame(20).candidates"
   ]
  },
  {
   "cell_type": "code",
   "execution_count": null,
   "id": "87540d5a",
   "metadata": {
    "slideshow": {
     "slide_type": "-"
    }
   },
   "outputs": [],
   "source": [
    "pitch.get_frame(20).candidates[0].frequency"
   ]
  },
  {
   "cell_type": "markdown",
   "id": "ca0a8e98",
   "metadata": {
    "slideshow": {
     "slide_type": "subslide"
    }
   },
   "source": [
    "![praat_pitch_candidates.png](images/praat_pitch_candidates.png)"
   ]
  },
  {
   "cell_type": "code",
   "execution_count": null,
   "id": "48667707",
   "metadata": {
    "slideshow": {
     "slide_type": "subslide"
    }
   },
   "outputs": [],
   "source": [
    "pitch.selected_array"
   ]
  },
  {
   "cell_type": "code",
   "execution_count": null,
   "id": "d3fafbf6",
   "metadata": {
    "slideshow": {
     "slide_type": "subslide"
    }
   },
   "outputs": [],
   "source": [
    "def draw_pitch(ax, pitch):\n",
    "    # Extract selected pitch contour, and replace unvoiced samples by NaN to not plot\n",
    "    pitch_values = pitch.selected_array['frequency']\n",
    "    pitch_values[pitch_values==0] = np.nan\n",
    "    ax.plot(pitch.xs(), pitch_values, 'o', markersize=5, color='w')\n",
    "    ax.plot(pitch.xs(), pitch_values, 'o', markersize=2)\n",
    "    ax.set_ylim(0, pitch.ceiling)\n",
    "    ax.set_ylabel(\"fundamental frequency (Hz)\")"
   ]
  },
  {
   "cell_type": "code",
   "execution_count": null,
   "id": "f23c46be",
   "metadata": {
    "slideshow": {
     "slide_type": "-"
    }
   },
   "outputs": [],
   "source": [
    "fig, ax = plt.subplots()\n",
    "draw_spectrogram(ax, spectrogram)\n",
    "ax_twin = ax.twinx()\n",
    "draw_pitch(ax_twin, pitch)\n",
    "ax.set_xlim(sound.xmin, sound.xmax)"
   ]
  },
  {
   "cell_type": "code",
   "execution_count": null,
   "id": "6d0eba06",
   "metadata": {
    "slideshow": {
     "slide_type": "subslide"
    }
   },
   "outputs": [],
   "source": [
    "hoover_sound = parselmouth.Sound(\"data/hoover.wav\")\n",
    "audio_player(hoover_sound)"
   ]
  },
  {
   "cell_type": "code",
   "execution_count": null,
   "id": "f37a5372",
   "metadata": {
    "slideshow": {
     "slide_type": "subslide"
    }
   },
   "outputs": [],
   "source": [
    "fig, ax = plt.subplots()\n",
    "draw_spectrogram(ax, hoover_sound.to_spectrogram(window_length=0.03), dynamic_range=50, cmap='inferno')\n",
    "ax.set_xlim(hoover_sound.xmin, hoover_sound.xmax)"
   ]
  },
  {
   "cell_type": "markdown",
   "id": "c75d0139",
   "metadata": {
    "slideshow": {
     "slide_type": "subslide"
    }
   },
   "source": [
    "### Synchronisation point\n",
    "\n",
    "- https://parselmouth.readthedocs.io/en/stable/examples/plotting.html\n",
    "- Play around with styles and colors and colormaps\n",
    "- Plot a formant track"
   ]
  },
  {
   "cell_type": "markdown",
   "id": "f4b0d03a",
   "metadata": {
    "slideshow": {
     "slide_type": "slide"
    }
   },
   "source": [
    "## Accessing \"raw\" Praat commands"
   ]
  },
  {
   "cell_type": "markdown",
   "id": "909bcadb",
   "metadata": {
    "slideshow": {
     "slide_type": "subslide"
    }
   },
   "source": [
    "Creating a Python interface is quite a bit of work. See source ;-)\n",
    "\n",
    "What to do when no Python class exists?"
   ]
  },
  {
   "cell_type": "code",
   "execution_count": null,
   "id": "c2a29778",
   "metadata": {
    "slideshow": {
     "slide_type": "fragment"
    }
   },
   "outputs": [],
   "source": [
    "manipulation = parselmouth.praat.call(sound, \"To Manipulation\", 0.01, 75, 600)\n",
    "manipulation"
   ]
  },
  {
   "cell_type": "code",
   "execution_count": null,
   "id": "89570ce3",
   "metadata": {
    "slideshow": {
     "slide_type": "-"
    }
   },
   "outputs": [],
   "source": [
    "type(manipulation), type(sound)"
   ]
  },
  {
   "cell_type": "code",
   "execution_count": null,
   "id": "fbfe4bc7",
   "metadata": {
    "slideshow": {
     "slide_type": "-"
    }
   },
   "outputs": [],
   "source": [
    "parselmouth.Sound.__mro__"
   ]
  },
  {
   "cell_type": "code",
   "execution_count": null,
   "id": "2980c1de",
   "metadata": {
    "slideshow": {
     "slide_type": "subslide"
    }
   },
   "outputs": [],
   "source": [
    "help(parselmouth.Data)"
   ]
  },
  {
   "cell_type": "code",
   "execution_count": null,
   "id": "8a11602e",
   "metadata": {
    "slideshow": {
     "slide_type": "subslide"
    }
   },
   "outputs": [],
   "source": [
    "manipulation.class_name"
   ]
  },
  {
   "cell_type": "markdown",
   "id": "1c5eb5c4",
   "metadata": {
    "slideshow": {
     "slide_type": "-"
    }
   },
   "source": [
    "`parselmouth.Data` is the base class of all Praat objects (actually `parselmouth.Thing`; it's complicated).\n",
    "\n",
    "When the full type is not exposed in Parselmouth, you get a `parselmouth.Data`."
   ]
  },
  {
   "cell_type": "markdown",
   "id": "4042e486",
   "metadata": {
    "slideshow": {
     "slide_type": "fragment"
    }
   },
   "source": [
    "https://parselmouth.readthedocs.io/en/stable/api_reference.html#parselmouth.praat.call"
   ]
  },
  {
   "cell_type": "code",
   "execution_count": null,
   "id": "63ccb441",
   "metadata": {
    "slideshow": {
     "slide_type": "-"
    }
   },
   "outputs": [],
   "source": [
    "help(parselmouth.praat.call)"
   ]
  },
  {
   "cell_type": "code",
   "execution_count": null,
   "id": "b941ab5e",
   "metadata": {
    "slideshow": {
     "slide_type": "subslide"
    }
   },
   "outputs": [],
   "source": [
    "audio_player(sound)"
   ]
  },
  {
   "cell_type": "code",
   "execution_count": null,
   "id": "5fa565fe",
   "metadata": {
    "slideshow": {
     "slide_type": "fragment"
    }
   },
   "outputs": [],
   "source": [
    "from parselmouth.praat import call\n",
    "\n",
    "manipulation = call(sound, \"To Manipulation\", 0.01, 75, 600)\n",
    "\n",
    "pitch_tier = call(manipulation, \"Extract pitch tier\")\n",
    "\n",
    "call(pitch_tier, \"Multiply frequencies\", sound.xmin, sound.xmax, 2)\n",
    "\n",
    "call([pitch_tier, manipulation], \"Replace pitch tier\")\n",
    "sound_octave_up = call(manipulation, \"Get resynthesis (overlap-add)\")\n",
    "sound_octave_up"
   ]
  },
  {
   "cell_type": "code",
   "execution_count": null,
   "id": "7053010d",
   "metadata": {
    "slideshow": {
     "slide_type": "-"
    }
   },
   "outputs": [],
   "source": [
    "audio_player(sound_octave_up)"
   ]
  },
  {
   "cell_type": "code",
   "execution_count": null,
   "id": "ef493e36",
   "metadata": {
    "slideshow": {
     "slide_type": "subslide"
    }
   },
   "outputs": [],
   "source": [
    "try:\n",
    "    call(sound, \"View & Edit\")\n",
    "except Exception as e:\n",
    "    import traceback\n",
    "    traceback.print_exc()"
   ]
  },
  {
   "cell_type": "markdown",
   "id": "d63fe158",
   "metadata": {
    "slideshow": {
     "slide_type": "-"
    }
   },
   "source": [
    "Not supported:\n",
    "- Interactive \"View & Edit\" and menus: see main menu\n",
    "- Drawing: hopefully future interaction with matplotlib"
   ]
  },
  {
   "cell_type": "markdown",
   "id": "d0751973",
   "metadata": {
    "slideshow": {
     "slide_type": "subslide"
    }
   },
   "source": [
    "### Synchronization point\n",
    "\n",
    "- https://parselmouth.readthedocs.io/en/stable/api_reference.html#parselmouth.praat.call\n",
    "- https://parselmouth.readthedocs.io/en/stable/examples/pitch_manipulation.html\n",
    "- Is your favorite/most-used piece of Praat functionality available? Can you call it?"
   ]
  },
  {
   "cell_type": "markdown",
   "id": "d7cf88df",
   "metadata": {
    "slideshow": {
     "slide_type": "slide"
    }
   },
   "source": [
    "## Running Praat scripts"
   ]
  },
  {
   "cell_type": "markdown",
   "id": "befcfa09",
   "metadata": {
    "slideshow": {
     "slide_type": "subslide"
    }
   },
   "source": [
    "Running praat scripts is very similar to running a single Praat command. A run has two kinds of inputs:\n",
    "- selected Praat objects\n",
    "- argument values for Praat `form` parameters\n",
    "\n",
    "Contrary to actions, a script can have three kinds of outputs:\n",
    "- Praat objects\n",
    "- printed output (optional)\n",
    "- variables (optional)\n",
    "\n",
    "Same rule as for actions: no interactive stuff. We're programming, after all, not running the GUI.\n",
    "\n",
    "https://parselmouth.readthedocs.io/en/stable/api_reference.html#parselmouth.praat.run"
   ]
  },
  {
   "cell_type": "code",
   "execution_count": null,
   "id": "6f697814",
   "metadata": {
    "slideshow": {
     "slide_type": "subslide"
    }
   },
   "outputs": [],
   "source": [
    "praat_script = \"\"\"\\\n",
    "form Increase the pitch by 1 octave\n",
    "    positive Pitch_floor 75\n",
    "    positive Pitch_ceiling 600\n",
    "endform\n",
    "\n",
    "sound = selected()\n",
    "\n",
    "manipulation = To Manipulation: 0.01, pitch_floor, pitch_ceiling\n",
    "\n",
    "pitch_tier = Extract pitch tier\n",
    "\n",
    "select sound\n",
    "xmin = Get start time\n",
    "xmax = Get end time\n",
    "\n",
    "appendInfoLine: \"xmin = \", xmin\n",
    "appendInfoLine: \"xmax = \", xmax\n",
    "\n",
    "select pitch_tier\n",
    "Multiply frequencies: xmin, xmax, 2\n",
    "\n",
    "select pitch_tier\n",
    "plus manipulation\n",
    "Replace pitch tier\n",
    "\n",
    "select manipulation\n",
    "Get resynthesis (overlap-add)\n",
    "\"\"\""
   ]
  },
  {
   "cell_type": "code",
   "execution_count": null,
   "id": "abeb70f9",
   "metadata": {
    "slideshow": {
     "slide_type": "fragment"
    }
   },
   "outputs": [],
   "source": [
    "objects = parselmouth.praat.run(sound, praat_script, 75, 600)\n",
    "audio_player(objects[0])"
   ]
  },
  {
   "cell_type": "code",
   "execution_count": null,
   "id": "b1cfc88b",
   "metadata": {
    "slideshow": {
     "slide_type": "subslide"
    }
   },
   "outputs": [],
   "source": [
    "praat_script_bis = praat_script + \"\"\"\\\n",
    "select manipulation\n",
    "plus pitch_tier\n",
    "plus sound\n",
    "\"\"\""
   ]
  },
  {
   "cell_type": "code",
   "execution_count": null,
   "id": "76933929",
   "metadata": {},
   "outputs": [],
   "source": [
    "parselmouth.praat.run(sound, praat_script_bis, 75, 600)"
   ]
  },
  {
   "cell_type": "code",
   "execution_count": null,
   "id": "d3988a32",
   "metadata": {
    "slideshow": {
     "slide_type": "fragment"
    }
   },
   "outputs": [],
   "source": [
    "parselmouth.praat.run(sound, praat_script, 75, 600, capture_output=True)"
   ]
  },
  {
   "cell_type": "code",
   "execution_count": null,
   "id": "86eefc2b",
   "metadata": {
    "slideshow": {
     "slide_type": "fragment"
    }
   },
   "outputs": [],
   "source": [
    "objects, output = parselmouth.praat.run(sound, praat_script, 75, 600, capture_output=True)\n",
    "print(output)"
   ]
  },
  {
   "cell_type": "code",
   "execution_count": null,
   "id": "e1180c8a",
   "metadata": {
    "slideshow": {
     "slide_type": "subslide"
    }
   },
   "outputs": [],
   "source": [
    "objects, variables = parselmouth.praat.run(sound, praat_script, 75, 600, return_variables=True)\n",
    "variables"
   ]
  },
  {
   "cell_type": "markdown",
   "id": "bf270f3b",
   "metadata": {
    "slideshow": {
     "slide_type": "subslide"
    }
   },
   "source": [
    "### Re-using \"legacy\" Praat code\n",
    "\n",
    "It is reasonably simple to reuse an existing piece of Praat code. Often, a few changes at the start and end are enough.\n",
    "\n",
    "For example, let's take the existing \"Praat Script Syllable Nuclei v2\" script. (De Jong, N. H., & Wempe, T. (2009). Praat script to detect syllable nuclei and measure speech rate automatically. _Behavior Research Methods, 41_, 385–390.)\n",
    "\n",
    "Compare `data/syllable_nuclei_orig.praat` and `data/syllable_nuclei.praat`."
   ]
  },
  {
   "cell_type": "markdown",
   "id": "2da79a24",
   "metadata": {
    "slideshow": {
     "slide_type": "subslide"
    }
   },
   "source": [
    "![syllable_nuclei_diff_1.png](images/syllable_nuclei_diff_1.png)"
   ]
  },
  {
   "cell_type": "markdown",
   "id": "58a341b9",
   "metadata": {
    "slideshow": {
     "slide_type": "subslide"
    }
   },
   "source": [
    "![syllable_nuclei_diff_2.png](images/syllable_nuclei_diff_2.png)"
   ]
  },
  {
   "cell_type": "code",
   "execution_count": null,
   "id": "be6f062c",
   "metadata": {
    "slideshow": {
     "slide_type": "subslide"
    }
   },
   "outputs": [],
   "source": [
    "def extract_syllable_intervals(file_name):\n",
    "    print(f\"Extracting syllable intervals from '{file_name}'...\")\n",
    "\n",
    "    objects = parselmouth.praat.run_file(\"data/syllable_nuclei.praat\", -25, 2, 0.3, file_name)\n",
    "    text_grid = objects[1]\n",
    "    n = parselmouth.praat.call(text_grid, \"Get number of points\", 1)\n",
    "    syllable_nuclei = [parselmouth.praat.call(text_grid, \"Get time of point\", 1, i + 1) for i in range(n)]\n",
    "\n",
    "    syllable_intervals = np.diff(syllable_nuclei)\n",
    "    return syllable_nuclei, syllable_intervals"
   ]
  },
  {
   "cell_type": "code",
   "execution_count": null,
   "id": "cac219a9",
   "metadata": {
    "slideshow": {
     "slide_type": "-"
    }
   },
   "outputs": [],
   "source": [
    "nuclei, intervals = extract_syllable_intervals(\"the_north_wind_and_the_sun.wav\")"
   ]
  },
  {
   "cell_type": "code",
   "execution_count": null,
   "id": "fd9bffab",
   "metadata": {
    "slideshow": {
     "slide_type": "-"
    }
   },
   "outputs": [],
   "source": [
    "nuclei"
   ]
  },
  {
   "cell_type": "code",
   "execution_count": null,
   "id": "7cbbe41f",
   "metadata": {
    "slideshow": {
     "slide_type": "-"
    }
   },
   "outputs": [],
   "source": [
    "intervals"
   ]
  },
  {
   "cell_type": "code",
   "execution_count": null,
   "id": "a10f05c2",
   "metadata": {
    "slideshow": {
     "slide_type": "subslide"
    }
   },
   "outputs": [],
   "source": [
    "fig, ax = plt.subplots()\n",
    "draw_spectrogram(ax, sound.to_spectrogram(window_length=0.03))\n",
    "ax.set_xlim(sound.xmin, sound.xmax)\n",
    "for nucleus in nuclei:\n",
    "    ax.axvline(nucleus, color='green', linewidth=3)"
   ]
  },
  {
   "cell_type": "markdown",
   "id": "2d0451de",
   "metadata": {
    "slideshow": {
     "slide_type": "subslide"
    }
   },
   "source": [
    "### Synchronization point\n",
    "\n",
    "- https://parselmouth.readthedocs.io/en/stable/api_reference.html#parselmouth.praat.run\n",
    "- https://parselmouth.readthedocs.io/en/stable/api_reference.html#parselmouth.praat.run_file\n",
    "- Run a script from http://www.praatvocaltoolkit.com/\n",
    "- Any own Praat scripts to run?"
   ]
  },
  {
   "cell_type": "markdown",
   "id": "81a0dbe0",
   "metadata": {
    "slideshow": {
     "slide_type": "slide"
    }
   },
   "source": [
    "## Getting annotations from TextGrids"
   ]
  },
  {
   "cell_type": "markdown",
   "id": "aa20e2ec",
   "metadata": {
    "slideshow": {
     "slide_type": "subslide"
    }
   },
   "source": [
    "### TextGridTools\n",
    "\n",
    "There is no full support for TextGrids in Parselmouth (yet) through the \"Pythonic\" API. However, `tgt` (TextGridTools) is a small Python library that perfectly works together with Python and Parselmouth."
   ]
  },
  {
   "cell_type": "code",
   "execution_count": null,
   "id": "2028de44",
   "metadata": {
    "slideshow": {
     "slide_type": "fragment"
    }
   },
   "outputs": [],
   "source": [
    "import tgt\n",
    "\n",
    "text_grid = tgt.io.read_textgrid(\"data/the_north_wind_and_the_sun.TextGrid\")\n",
    "text_grid"
   ]
  },
  {
   "cell_type": "code",
   "execution_count": null,
   "id": "e30fcfc0",
   "metadata": {
    "slideshow": {
     "slide_type": "-"
    }
   },
   "outputs": [],
   "source": [
    "text_grid.get_tier_names()"
   ]
  },
  {
   "cell_type": "code",
   "execution_count": null,
   "id": "f1972dff",
   "metadata": {
    "slideshow": {
     "slide_type": "-"
    }
   },
   "outputs": [],
   "source": [
    "text_grid.get_tier_by_name('syllable nuclei')"
   ]
  },
  {
   "cell_type": "code",
   "execution_count": null,
   "id": "8109d2a6",
   "metadata": {
    "slideshow": {
     "slide_type": "subslide"
    }
   },
   "outputs": [],
   "source": [
    "sound = parselmouth.Sound(\"data/the_north_wind_and_the_sun.wav\")\n",
    "intensity = sound.to_intensity()"
   ]
  },
  {
   "cell_type": "code",
   "execution_count": null,
   "id": "53b3f728",
   "metadata": {
    "slideshow": {
     "slide_type": "-"
    }
   },
   "outputs": [],
   "source": [
    "syllable_nuclei_tier = text_grid.get_tier_by_name('syllable nuclei')\n",
    "for point in syllable_nuclei_tier.points:\n",
    "    t = point.time\n",
    "    t_intensity = intensity.get_value(t)\n",
    "    print(f\"{t:.4f}: {t_intensity:.2f} ({point.text})\")"
   ]
  },
  {
   "cell_type": "code",
   "execution_count": null,
   "id": "2a2aaee9",
   "metadata": {
    "slideshow": {
     "slide_type": "subslide"
    }
   },
   "outputs": [],
   "source": [
    "a_parselmouth_text_grid = parselmouth.read(\"data/the_north_wind_and_the_sun.TextGrid\")\n",
    "a_parselmouth_text_grid"
   ]
  },
  {
   "cell_type": "code",
   "execution_count": null,
   "id": "70e4b2e8",
   "metadata": {
    "slideshow": {
     "slide_type": "-"
    }
   },
   "outputs": [],
   "source": [
    "a_tgt_text_grid = a_parselmouth_text_grid.to_tgt()\n",
    "a_tgt_text_grid"
   ]
  },
  {
   "cell_type": "code",
   "execution_count": null,
   "id": "9a54bc05",
   "metadata": {
    "slideshow": {
     "slide_type": "-"
    }
   },
   "outputs": [],
   "source": [
    "a_tgt_text_grid.get_tier_names()"
   ]
  },
  {
   "cell_type": "code",
   "execution_count": null,
   "id": "2e68a2cc",
   "metadata": {
    "slideshow": {
     "slide_type": "-"
    }
   },
   "outputs": [],
   "source": [
    "parselmouth.TextGrid.from_tgt(a_tgt_text_grid)"
   ]
  },
  {
   "cell_type": "code",
   "execution_count": null,
   "id": "04f17b58",
   "metadata": {
    "slideshow": {
     "slide_type": "-"
    }
   },
   "outputs": [],
   "source": [
    "call(parselmouth.TextGrid.from_tgt(a_tgt_text_grid), \"Get tier name\", 2)"
   ]
  },
  {
   "cell_type": "markdown",
   "id": "a01955f6",
   "metadata": {
    "slideshow": {
     "slide_type": "subslide"
    }
   },
   "source": [
    "### Synchronization point\n",
    "\n",
    "- https://textgridtools.readthedocs.io/\n",
    "- Read in some annotations and plot them on top of a spectrogram?"
   ]
  },
  {
   "cell_type": "markdown",
   "id": "413b35c9",
   "metadata": {
    "slideshow": {
     "slide_type": "slide"
    }
   },
   "source": [
    "## One language to rule them all: accessing R"
   ]
  },
  {
   "cell_type": "code",
   "execution_count": null,
   "id": "b538bec0",
   "metadata": {
    "slideshow": {
     "slide_type": "subslide"
    }
   },
   "outputs": [],
   "source": [
    "!pip install rpy2"
   ]
  },
  {
   "cell_type": "code",
   "execution_count": null,
   "id": "50c3fbbb",
   "metadata": {
    "slideshow": {
     "slide_type": "subslide"
    }
   },
   "outputs": [],
   "source": [
    "pitch_track = pitch.selected_array['frequency']\n",
    "pitch_track[:20]"
   ]
  },
  {
   "cell_type": "code",
   "execution_count": null,
   "id": "a8b2e246",
   "metadata": {
    "slideshow": {
     "slide_type": "-"
    }
   },
   "outputs": [],
   "source": [
    "from rpy2.robjects import FloatVector\n",
    "from rpy2.robjects.packages import importr\n",
    "\n",
    "r_stats = importr('stats')\n",
    "r_stats"
   ]
  },
  {
   "cell_type": "code",
   "execution_count": null,
   "id": "00d03bb0",
   "metadata": {
    "slideshow": {
     "slide_type": "-"
    }
   },
   "outputs": [],
   "source": [
    "result = r_stats.wilcox_test(FloatVector(pitch_track[:len(pitch) // 2]),\n",
    "                             FloatVector(pitch_track[len(pitch) // 2:]))\n",
    "result"
   ]
  },
  {
   "cell_type": "code",
   "execution_count": null,
   "id": "67383174",
   "metadata": {
    "slideshow": {
     "slide_type": "-"
    }
   },
   "outputs": [],
   "source": [
    "result.rx2('p.value')[0]"
   ]
  },
  {
   "cell_type": "markdown",
   "id": "ff28c3c2",
   "metadata": {
    "slideshow": {
     "slide_type": "subslide"
    }
   },
   "source": [
    "### Synchronization point\n",
    "\n",
    "- https://rpy2.github.io/\n",
    "- https://rpy2.github.io/doc/latest/html/index.html\n",
    "- Run another stats test from R on your own data"
   ]
  },
  {
   "cell_type": "markdown",
   "id": "dbba0b7b",
   "metadata": {
    "slideshow": {
     "slide_type": "slide"
    }
   },
   "source": [
    "## Extra: your name in a spectrogram"
   ]
  },
  {
   "cell_type": "code",
   "execution_count": null,
   "id": "ba80bdb9",
   "metadata": {
    "slideshow": {
     "slide_type": "subslide"
    }
   },
   "outputs": [],
   "source": [
    "!pip install librosa Pillow"
   ]
  },
  {
   "cell_type": "code",
   "execution_count": null,
   "id": "fc5afba4",
   "metadata": {
    "slideshow": {
     "slide_type": "subslide"
    }
   },
   "outputs": [],
   "source": [
    "import librosa\n",
    "import numpy as np\n",
    "import parselmouth\n",
    "from PIL import Image, ImageDraw, ImageFont\n",
    "\n",
    "WORD = \"Parselmouth\"\n",
    "SIZE = 300\n",
    "MARGIN = 50\n",
    "FONT = \"DejaVuSans-Bold.ttf\"  # \"Comic_Sans_MS.ttf\"\n",
    "\n",
    "TIME_STEP = 0.0025\n",
    "MAX_FREQUENCY = 5000\n",
    "SAMPLING_FREQUENCY = 44100\n",
    "\n",
    "font = ImageFont.truetype(FONT, SIZE)\n",
    "size = font.getbbox(WORD, anchor='lt')[2:]\n",
    "image = Image.new('L', (size[0] + 2 * MARGIN, size[1] + 2 * MARGIN))\n",
    "draw = ImageDraw.Draw(image)\n",
    "draw.text((MARGIN, MARGIN), WORD, fill=255, font=font, anchor='lt')\n",
    "\n",
    "n, m = image.size\n",
    "matrix = parselmouth.praat.call(\"Create Matrix\", \"\", 0, TIME_STEP * n, n, TIME_STEP, TIME_STEP / 2, 0, MAX_FREQUENCY, m, MAX_FREQUENCY / m, MAX_FREQUENCY / m / 2, \"0\")\n",
    "matrix.values = np.array(image)[::-1,:] / 255\n",
    "spectrogram = parselmouth.praat.call(matrix, \"To Spectrogram\")\n",
    "logospectrogram = spectrogram.to_sound(SAMPLING_FREQUENCY)\n",
    "logospectrogram.scale_peak()\n",
    "logospectrogram.save(\"logospectrogram.wav\", 'WAV')\n",
    "\n",
    "librosa_spectrogram = np.zeros((int(m / 5000 * SAMPLING_FREQUENCY / 2), n))\n",
    "librosa_spectrogram[:m,:n] = np.array(image)[::-1,:] / 255\n",
    "logospectrogram_librosa = parselmouth.Sound(librosa.griffinlim(librosa_spectrogram, hop_length=int(TIME_STEP * SAMPLING_FREQUENCY)))\n",
    "logospectrogram_librosa.scale_peak()\n",
    "logospectrogram_librosa.save(\"logospectrogram_librosa.wav\", 'WAV')"
   ]
  },
  {
   "cell_type": "code",
   "execution_count": null,
   "id": "2de197d0",
   "metadata": {
    "slideshow": {
     "slide_type": "subslide"
    }
   },
   "outputs": [],
   "source": [
    "audio_player(logospectrogram)"
   ]
  },
  {
   "cell_type": "code",
   "execution_count": null,
   "id": "0b23f634",
   "metadata": {
    "slideshow": {
     "slide_type": "fragment"
    }
   },
   "outputs": [],
   "source": [
    "fig, ax = plt.subplots()\n",
    "draw_spectrogram(ax, logospectrogram.to_spectrogram(window_length=0.03))\n",
    "ax.set_xlim(logospectrogram.xmin, logospectrogram.xmax)"
   ]
  },
  {
   "cell_type": "code",
   "execution_count": null,
   "id": "6ac275d7",
   "metadata": {
    "slideshow": {
     "slide_type": "subslide"
    }
   },
   "outputs": [],
   "source": [
    "audio_player(logospectrogram_librosa)"
   ]
  },
  {
   "cell_type": "code",
   "execution_count": null,
   "id": "28049f88",
   "metadata": {
    "slideshow": {
     "slide_type": "fragment"
    }
   },
   "outputs": [],
   "source": [
    "fig, ax = plt.subplots()\n",
    "draw_spectrogram(ax, logospectrogram_librosa.to_spectrogram(window_length=0.03))\n",
    "ax.set_xlim(logospectrogram_librosa.xmin, logospectrogram_librosa.xmax)"
   ]
  },
  {
   "cell_type": "markdown",
   "id": "0de96f89",
   "metadata": {
    "slideshow": {
     "slide_type": "slide"
    }
   },
   "source": [
    "## Extra: interactive application demo"
   ]
  },
  {
   "cell_type": "markdown",
   "id": "f0caf0ca",
   "metadata": {
    "slideshow": {
     "slide_type": "slide"
    }
   },
   "source": [
    "## That's all I have (in this tutorial)\n",
    "\n",
    "**Questions or requests?**"
   ]
  }
 ],
 "metadata": {
  "celltoolbar": "Slideshow",
  "kernelspec": {
   "display_name": "Python 3 (ipykernel)",
   "language": "python",
   "name": "python3"
  },
  "language_info": {
   "codemirror_mode": {
    "name": "ipython",
    "version": 3
   },
   "file_extension": ".py",
   "mimetype": "text/x-python",
   "name": "python",
   "nbconvert_exporter": "python",
   "pygments_lexer": "ipython3",
   "version": "3.9.7"
  },
  "rise": {
   "theme": "white"
  }
 },
 "nbformat": 4,
 "nbformat_minor": 5
}
