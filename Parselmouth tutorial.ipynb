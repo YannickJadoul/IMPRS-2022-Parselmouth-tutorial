{
 "cells": [
  {
   "cell_type": "markdown",
   "id": "0c681830",
   "metadata": {
    "slideshow": {
     "slide_type": "slide"
    }
   },
   "source": [
    "# Parselmouth, a tutorial"
   ]
  },
  {
   "cell_type": "markdown",
   "id": "7f1d290a",
   "metadata": {
    "slideshow": {
     "slide_type": "slide"
    }
   },
   "source": [
    "## Introduction"
   ]
  },
  {
   "cell_type": "markdown",
   "id": "422450ea",
   "metadata": {
    "slideshow": {
     "slide_type": "subslide"
    }
   },
   "source": [
    "### Installation\n",
    "\n",
    "Install Parselmouth by installing the `praat-parselmouth` package from PyPI.\n",
    "\n",
    "Do not - do or do not? I repeat, do not! - install `parselmouth`, as it is another package. _(Sorry for the confusion.)_"
   ]
  },
  {
   "cell_type": "code",
   "execution_count": null,
   "id": "8662845a",
   "metadata": {
    "slideshow": {
     "slide_type": "-"
    }
   },
   "outputs": [],
   "source": [
    "!pip install praat-parselmouth"
   ]
  },
  {
   "cell_type": "markdown",
   "id": "b9ea9388",
   "metadata": {
    "slideshow": {
     "slide_type": "fragment"
    }
   },
   "source": [
    "And these are some other things you should have installed to run demo:"
   ]
  },
  {
   "cell_type": "code",
   "execution_count": null,
   "id": "43b6619b",
   "metadata": {
    "slideshow": {
     "slide_type": "-"
    }
   },
   "outputs": [],
   "source": [
    "!pip install numpy pandas matplotlib seaborn"
   ]
  },
  {
   "cell_type": "markdown",
   "id": "e297c579",
   "metadata": {
    "slideshow": {
     "slide_type": "subslide"
    }
   },
   "source": [
    "### Let's get started"
   ]
  },
  {
   "cell_type": "code",
   "execution_count": null,
   "id": "ada14132",
   "metadata": {
    "slideshow": {
     "slide_type": "-"
    }
   },
   "outputs": [],
   "source": [
    "import parselmouth"
   ]
  },
  {
   "cell_type": "code",
   "execution_count": null,
   "id": "35747b4f",
   "metadata": {},
   "outputs": [],
   "source": [
    "import numpy as np\n",
    "import pandas as pd"
   ]
  },
  {
   "cell_type": "code",
   "execution_count": null,
   "id": "f4606938",
   "metadata": {
    "slideshow": {
     "slide_type": "-"
    }
   },
   "outputs": [],
   "source": [
    "parselmouth.__version__"
   ]
  },
  {
   "cell_type": "code",
   "execution_count": null,
   "id": "de612137",
   "metadata": {
    "slideshow": {
     "slide_type": "-"
    }
   },
   "outputs": [],
   "source": [
    "parselmouth.PRAAT_VERSION, parselmouth.PRAAT_VERSION_DATE"
   ]
  },
  {
   "cell_type": "markdown",
   "id": "f0a2f98e",
   "metadata": {
    "slideshow": {
     "slide_type": "subslide"
    }
   },
   "source": [
    "### What's to come?\n",
    "\n",
    "- That one example from before\n",
    "- Fantastic Praat objects and how to plot them\n",
    "- Accessing \"raw\" Praat commands\n",
    "- Running Praat scripts"
   ]
  },
  {
   "cell_type": "markdown",
   "id": "89a2369d",
   "metadata": {
    "slideshow": {
     "slide_type": "fragment"
    }
   },
   "source": [
    "**Main goal: how to map a Praat workflow to Parselmouth**\n",
    "\n",
    "_(in other words: the examples might seem a bit artificial/simplistic, but try to find the principles)_"
   ]
  },
  {
   "cell_type": "markdown",
   "id": "c0ca8fd6",
   "metadata": {
    "slideshow": {
     "slide_type": "subslide"
    }
   },
   "source": [
    "### Synchronisation point\n",
    "\n",
    "- Questions/issues/... ?\n",
    "- https://parselmouth.readthedocs.io/"
   ]
  },
  {
   "cell_type": "markdown",
   "id": "8e987cf6",
   "metadata": {
    "slideshow": {
     "slide_type": "slide"
    }
   },
   "source": [
    "## That one example from before"
   ]
  },
  {
   "cell_type": "code",
   "execution_count": null,
   "id": "20462a3f",
   "metadata": {
    "slideshow": {
     "slide_type": "subslide"
    }
   },
   "outputs": [],
   "source": [
    "import parselmouth\n",
    "\n",
    "def extract_info(sound):\n",
    "    pitch = sound.to_pitch(time_step=0.001, pitch_ceiling=300)\n",
    "    intensity = sound.to_intensity(75, 0.001, subtract_mean=False)\n",
    "\n",
    "    print(\"Here are the results:\")\n",
    "    for i in range(int((sound.tmax - sound.tmin) / 0.01)):\n",
    "        time = sound.tmin + (i + 1) * 0.01\n",
    "        p_value = pitch.get_value_at_time(time)\n",
    "        i_value = intensity.get_value(time)\n",
    "        print(\"{:.2f} {:.3f} {:.3f}\".format(time, p_value, i_value))\n",
    "\n",
    "extract_info(parselmouth.Sound(\"data/the_north_wind_and_the_sun.wav\"))"
   ]
  },
  {
   "cell_type": "markdown",
   "id": "4aa8d5dd",
   "metadata": {
    "slideshow": {
     "slide_type": "subslide"
    }
   },
   "source": [
    "### Let's break that up into pieces"
   ]
  },
  {
   "cell_type": "code",
   "execution_count": null,
   "id": "e87c3294",
   "metadata": {
    "slideshow": {
     "slide_type": "-"
    }
   },
   "outputs": [],
   "source": [
    "sound = parselmouth.Sound(\"data/the_north_wind_and_the_sun.wav\")"
   ]
  },
  {
   "cell_type": "code",
   "execution_count": null,
   "id": "301e4b00",
   "metadata": {
    "slideshow": {
     "slide_type": "-"
    }
   },
   "outputs": [],
   "source": [
    "sound"
   ]
  },
  {
   "cell_type": "code",
   "execution_count": null,
   "id": "8d788971",
   "metadata": {
    "slideshow": {
     "slide_type": "-"
    }
   },
   "outputs": [],
   "source": [
    "print(sound)"
   ]
  },
  {
   "cell_type": "markdown",
   "id": "d8fffda8",
   "metadata": {
    "slideshow": {
     "slide_type": "subslide"
    }
   },
   "source": [
    "### Seems familiar?\n",
    "\n",
    "![praat_objects_and_info.png](images/praat_objects_and_info.png)"
   ]
  },
  {
   "cell_type": "markdown",
   "id": "94717657",
   "metadata": {
    "slideshow": {
     "slide_type": "subslide"
    }
   },
   "source": [
    "### Intensity and Pitch"
   ]
  },
  {
   "cell_type": "code",
   "execution_count": null,
   "id": "9f5fb30f",
   "metadata": {
    "slideshow": {
     "slide_type": "-"
    }
   },
   "outputs": [],
   "source": [
    "pitch = sound.to_pitch(time_step=0.001, pitch_ceiling=300)\n",
    "pitch"
   ]
  },
  {
   "cell_type": "code",
   "execution_count": null,
   "id": "8cd508e1",
   "metadata": {
    "slideshow": {
     "slide_type": "-"
    }
   },
   "outputs": [],
   "source": [
    "pitch.get_value_at_time(0.5)"
   ]
  },
  {
   "cell_type": "markdown",
   "id": "d2621121",
   "metadata": {
    "slideshow": {
     "slide_type": "subslide"
    }
   },
   "source": [
    "![praat_pitch_value.png](images/praat_pitch_get_value.png)"
   ]
  },
  {
   "cell_type": "markdown",
   "id": "7654ef32",
   "metadata": {
    "slideshow": {
     "slide_type": "subslide"
    }
   },
   "source": [
    "![praat_pitch_value.png](images/praat_pitch_value.png)"
   ]
  },
  {
   "cell_type": "code",
   "execution_count": null,
   "id": "fbc805db",
   "metadata": {
    "slideshow": {
     "slide_type": "subslide"
    }
   },
   "outputs": [],
   "source": [
    "intensity = sound.to_intensity(75, 0.001, subtract_mean=False)\n",
    "intensity"
   ]
  },
  {
   "cell_type": "code",
   "execution_count": null,
   "id": "6d3801f0",
   "metadata": {
    "slideshow": {
     "slide_type": "-"
    }
   },
   "outputs": [],
   "source": [
    "intensity.get_value(0.5)"
   ]
  },
  {
   "cell_type": "code",
   "execution_count": null,
   "id": "5632a469",
   "metadata": {
    "scrolled": true,
    "slideshow": {
     "slide_type": "-"
    }
   },
   "outputs": [],
   "source": [
    "sound.tmin, sound.tmax"
   ]
  },
  {
   "cell_type": "markdown",
   "id": "6298bc00",
   "metadata": {
    "slideshow": {
     "slide_type": "subslide"
    }
   },
   "source": [
    "### And that's all Python-Praat interaction\n",
    "\n",
    "The rest is Python!"
   ]
  },
  {
   "cell_type": "code",
   "execution_count": null,
   "id": "45bcfbcf",
   "metadata": {
    "slideshow": {
     "slide_type": "-"
    }
   },
   "outputs": [],
   "source": [
    "import parselmouth\n",
    "\n",
    "def extract_info(sound):\n",
    "    pitch = sound.to_pitch(time_step=0.001, pitch_ceiling=300)\n",
    "    intensity = sound.to_intensity(75, 0.001, subtract_mean=False)\n",
    "\n",
    "    print(\"Here are the results:\")\n",
    "    for i in range(int((sound.tmax - sound.tmin) / 0.01)):\n",
    "        time = sound.tmin + (i + 1) * 0.01\n",
    "        p_value = pitch.get_value_at_time(time)\n",
    "        i_value = intensity.get_value(time)\n",
    "        print(\"{:.2f} {:.3f} {:.3f}\".format(time, p_value, i_value))\n",
    "\n",
    "extract_info(parselmouth.Sound(\"data/the_north_wind_and_the_sun.wav\"))"
   ]
  },
  {
   "cell_type": "markdown",
   "id": "7931bdcd",
   "metadata": {
    "slideshow": {
     "slide_type": "subslide"
    }
   },
   "source": [
    "### Synchronisation point\n",
    "\n",
    "- https://parselmouth.readthedocs.io/en/stable/api_reference.html#parselmouth.Sound\n",
    "- Change pitch/intensity extraction step to auto\n",
    "- Extract formant analysis and print first 2 formants"
   ]
  },
  {
   "cell_type": "markdown",
   "id": "aea81aef",
   "metadata": {
    "slideshow": {
     "slide_type": "slide"
    }
   },
   "source": [
    "## Fantastic Praat objects and how to plot them"
   ]
  },
  {
   "cell_type": "markdown",
   "id": "82134afe",
   "metadata": {
    "slideshow": {
     "slide_type": "subslide"
    }
   },
   "source": [
    "Two goals at once:\n",
    "1. How to make nice plots and integrate Praat (Parselmouth) into Python plotting libraries\n",
    "2. How to access the actual data to be plotting **(!)**"
   ]
  },
  {
   "cell_type": "code",
   "execution_count": null,
   "id": "dd3c4f3a",
   "metadata": {
    "slideshow": {
     "slide_type": "fragment"
    }
   },
   "outputs": [],
   "source": [
    "sound = parselmouth.Sound(\"data/the_north_wind_and_the_sun.wav\")\n",
    "sound"
   ]
  },
  {
   "cell_type": "code",
   "execution_count": null,
   "id": "7e69201f",
   "metadata": {
    "slideshow": {
     "slide_type": "-"
    }
   },
   "outputs": [],
   "source": [
    "help(sound.get_value)"
   ]
  },
  {
   "cell_type": "code",
   "execution_count": null,
   "id": "369c2b81",
   "metadata": {
    "slideshow": {
     "slide_type": "fragment"
    }
   },
   "outputs": [],
   "source": [
    "sound.n_channels"
   ]
  },
  {
   "cell_type": "code",
   "execution_count": null,
   "id": "561a607a",
   "metadata": {
    "slideshow": {
     "slide_type": "-"
    }
   },
   "outputs": [],
   "source": [
    "sound.get_value(0.5, 1)"
   ]
  },
  {
   "cell_type": "code",
   "execution_count": null,
   "id": "155a78a3",
   "metadata": {
    "slideshow": {
     "slide_type": "subslide"
    }
   },
   "outputs": [],
   "source": [
    "sound.values"
   ]
  },
  {
   "cell_type": "code",
   "execution_count": null,
   "id": "e78e130b",
   "metadata": {
    "slideshow": {
     "slide_type": "-"
    }
   },
   "outputs": [],
   "source": [
    "type(sound.values), sound.values.shape"
   ]
  },
  {
   "cell_type": "code",
   "execution_count": null,
   "id": "6f496860",
   "metadata": {
    "slideshow": {
     "slide_type": "-"
    }
   },
   "outputs": [],
   "source": [
    "sound.values[0,:-100:2]"
   ]
  },
  {
   "cell_type": "code",
   "execution_count": null,
   "id": "73aac25d",
   "metadata": {
    "scrolled": true,
    "slideshow": {
     "slide_type": "fragment"
    }
   },
   "outputs": [],
   "source": [
    "parselmouth.Sound.__mro__  # Subclass of parselmouth.Matrix"
   ]
  },
  {
   "cell_type": "code",
   "execution_count": null,
   "id": "65d3b240",
   "metadata": {
    "slideshow": {
     "slide_type": "subslide"
    }
   },
   "outputs": [],
   "source": [
    "from IPython.display import Audio\n",
    "\n",
    "Audio(sound.values[0,:], rate=sound.sampling_frequency)"
   ]
  },
  {
   "cell_type": "code",
   "execution_count": null,
   "id": "75260113",
   "metadata": {},
   "outputs": [],
   "source": [
    "def audio_player(sound):\n",
    "    return Audio(sound.values[0,:], rate=sound.sampling_frequency)"
   ]
  },
  {
   "cell_type": "markdown",
   "id": "b1f7a6b5",
   "metadata": {
    "slideshow": {
     "slide_type": "subslide"
    }
   },
   "source": [
    "### Plotting the waveform"
   ]
  },
  {
   "cell_type": "code",
   "execution_count": null,
   "id": "6f35f6a4",
   "metadata": {
    "slideshow": {
     "slide_type": "-"
    }
   },
   "outputs": [],
   "source": [
    "import matplotlib.pyplot as plt\n",
    "%matplotlib inline\n",
    "plt.rcParams['figure.figsize'] = [9, 6]\n",
    "plt.rcParams['figure.dpi'] = 100"
   ]
  },
  {
   "cell_type": "code",
   "execution_count": null,
   "id": "afb4bd49",
   "metadata": {
    "slideshow": {
     "slide_type": "fragment"
    }
   },
   "outputs": [],
   "source": [
    "sound.values[0,:]"
   ]
  },
  {
   "cell_type": "code",
   "execution_count": null,
   "id": "ae5fad32",
   "metadata": {
    "slideshow": {
     "slide_type": "-"
    }
   },
   "outputs": [],
   "source": [
    "sound.x1 + np.arange(sound.nx) * sound.dx"
   ]
  },
  {
   "cell_type": "code",
   "execution_count": null,
   "id": "97c53c94",
   "metadata": {
    "slideshow": {
     "slide_type": "-"
    }
   },
   "outputs": [],
   "source": [
    "sound.xs()"
   ]
  },
  {
   "cell_type": "code",
   "execution_count": null,
   "id": "dd6d0078",
   "metadata": {
    "slideshow": {
     "slide_type": "subslide"
    }
   },
   "outputs": [],
   "source": [
    "fig, ax = plt.subplots()\n",
    "ax.plot(sound.xs(), sound.values[0,:])"
   ]
  },
  {
   "cell_type": "code",
   "execution_count": null,
   "id": "8bb365cc",
   "metadata": {
    "slideshow": {
     "slide_type": "subslide"
    }
   },
   "outputs": [],
   "source": [
    "fig, ax = plt.subplots()\n",
    "ax.plot(sound.xs(), sound.values[0,:], color='pink', linewidth=0.5)\n",
    "ax.set_xlim(sound.xmin, sound.xmax)\n",
    "ax.set_ylim(-1, 1)"
   ]
  },
  {
   "cell_type": "code",
   "execution_count": null,
   "id": "65b5b60a",
   "metadata": {
    "slideshow": {
     "slide_type": "subslide"
    }
   },
   "outputs": [],
   "source": [
    "sun_sound = sound.extract_part(from_time=0.9, preserve_times=True)\n",
    "audio_player(sun_sound)"
   ]
  },
  {
   "cell_type": "code",
   "execution_count": null,
   "id": "2b893359",
   "metadata": {
    "slideshow": {
     "slide_type": "-"
    }
   },
   "outputs": [],
   "source": [
    "def plot_waveform(ax, sound, **kwargs):\n",
    "    max_abs_val = np.max(np.abs(sun_sound.values))\n",
    "    ax.plot(sun_sound.xs(), sun_sound.values[0,:], **kwargs)\n",
    "    ax.set_xlim(sound.xmin, sound.xmax)\n",
    "    ax.set_ylim(-1.2 * max_abs_val, 1.2 * max_abs_val)\n",
    "    ax.set_xlabel(\"time (s)\")\n",
    "    ax.set_ylabel(\"amplitude\")\n",
    "\n",
    "fig, ax = plt.subplots()\n",
    "plot_waveform(ax, sun_sound, linestyle='--', color='darkolivegreen')"
   ]
  },
  {
   "cell_type": "markdown",
   "id": "245c7880",
   "metadata": {
    "slideshow": {
     "slide_type": "subslide"
    }
   },
   "source": [
    "### And now a spectrogram"
   ]
  },
  {
   "cell_type": "code",
   "execution_count": null,
   "id": "7ebd222b",
   "metadata": {
    "slideshow": {
     "slide_type": "-"
    }
   },
   "outputs": [],
   "source": [
    "spectrogram = sound.to_spectrogram(window_length=0.03)\n",
    "spectrogram"
   ]
  },
  {
   "cell_type": "code",
   "execution_count": null,
   "id": "2cbb08e8",
   "metadata": {
    "slideshow": {
     "slide_type": "-"
    }
   },
   "outputs": [],
   "source": [
    "help(sound.to_spectrogram)"
   ]
  },
  {
   "cell_type": "code",
   "execution_count": null,
   "id": "8fcec607",
   "metadata": {
    "slideshow": {
     "slide_type": "subslide"
    }
   },
   "outputs": [],
   "source": [
    "isinstance(spectrogram, parselmouth.Matrix), issubclass(parselmouth.Spectrogram, parselmouth.Matrix)"
   ]
  },
  {
   "cell_type": "code",
   "execution_count": null,
   "id": "fbb18fcb",
   "metadata": {
    "slideshow": {
     "slide_type": "-"
    }
   },
   "outputs": [],
   "source": [
    "spectrogram.values"
   ]
  },
  {
   "cell_type": "code",
   "execution_count": null,
   "id": "621dc31e",
   "metadata": {
    "slideshow": {
     "slide_type": "-"
    }
   },
   "outputs": [],
   "source": [
    "spectrogram.values.shape, spectrogram.values.size"
   ]
  },
  {
   "cell_type": "code",
   "execution_count": null,
   "id": "ec4ff47d",
   "metadata": {
    "slideshow": {
     "slide_type": "-"
    }
   },
   "outputs": [],
   "source": [
    "spectrogram.values.base"
   ]
  },
  {
   "cell_type": "code",
   "execution_count": null,
   "id": "f88dd9d4",
   "metadata": {
    "slideshow": {
     "slide_type": "subslide"
    }
   },
   "outputs": [],
   "source": [
    "spectrogram.xs().shape, spectrogram.xs()"
   ]
  },
  {
   "cell_type": "code",
   "execution_count": null,
   "id": "493e4f51",
   "metadata": {
    "slideshow": {
     "slide_type": "-"
    }
   },
   "outputs": [],
   "source": [
    "spectrogram.x_grid().shape, spectrogram.x_grid()"
   ]
  },
  {
   "cell_type": "code",
   "execution_count": null,
   "id": "b89ab0d0",
   "metadata": {
    "slideshow": {
     "slide_type": "subslide"
    }
   },
   "outputs": [],
   "source": [
    "fig, ax = plt.subplots()\n",
    "ax.pcolormesh(spectrogram.x_grid(), spectrogram.y_grid(), spectrogram.values)"
   ]
  },
  {
   "cell_type": "code",
   "execution_count": null,
   "id": "6eba5216",
   "metadata": {
    "slideshow": {
     "slide_type": "subslide"
    }
   },
   "outputs": [],
   "source": [
    "fig, ax = plt.subplots()\n",
    "ax.pcolormesh(spectrogram.x_grid(), spectrogram.y_grid(), 10 * np.log10(spectrogram.values))"
   ]
  },
  {
   "cell_type": "code",
   "execution_count": null,
   "id": "06abf2eb",
   "metadata": {
    "slideshow": {
     "slide_type": "subslide"
    }
   },
   "outputs": [],
   "source": [
    "def draw_spectrogram(ax, spectrogram, dynamic_range=70):\n",
    "    X, Y = spectrogram.x_grid(), spectrogram.y_grid()\n",
    "    sg_db = 10 * np.log10(spectrogram.values)\n",
    "    ax.pcolormesh(X, Y, sg_db, vmin=sg_db.max() - dynamic_range, cmap='afmhot')\n",
    "    ax.set_ylim(spectrogram.ymin, spectrogram.ymax)\n",
    "    ax.set_xlabel(\"time (s)\")\n",
    "    ax.set_ylabel(\"frequency (Hz)\")\n",
    "\n",
    "fig, ax = plt.subplots()\n",
    "draw_spectrogram(ax, spectrogram)"
   ]
  },
  {
   "cell_type": "code",
   "execution_count": null,
   "id": "9a59bdf7",
   "metadata": {
    "slideshow": {
     "slide_type": "subslide"
    }
   },
   "outputs": [],
   "source": [
    "fig, ax = plt.subplots()\n",
    "pre_emphasized_sound = sound.copy()\n",
    "pre_emphasized_sound.pre_emphasize()\n",
    "draw_spectrogram(ax, pre_emphasized_sound.to_spectrogram(window_length=0.005, maximum_frequency=16000))"
   ]
  },
  {
   "cell_type": "markdown",
   "id": "f2b47bfb",
   "metadata": {
    "slideshow": {
     "slide_type": "subslide"
    }
   },
   "source": [
    "### And the pitch contour"
   ]
  },
  {
   "cell_type": "code",
   "execution_count": null,
   "id": "41dc39ab",
   "metadata": {
    "slideshow": {
     "slide_type": "-"
    }
   },
   "outputs": [],
   "source": [
    "pitch = sound.to_pitch()\n",
    "pitch"
   ]
  },
  {
   "cell_type": "code",
   "execution_count": null,
   "id": "0d98f791",
   "metadata": {
    "slideshow": {
     "slide_type": "-"
    }
   },
   "outputs": [],
   "source": [
    "hasattr(pitch, 'values')"
   ]
  },
  {
   "cell_type": "code",
   "execution_count": null,
   "id": "852368c7",
   "metadata": {
    "slideshow": {
     "slide_type": "-"
    }
   },
   "outputs": [],
   "source": [
    "pitch.get_frame(20)"
   ]
  },
  {
   "cell_type": "code",
   "execution_count": null,
   "id": "da374ec1",
   "metadata": {
    "slideshow": {
     "slide_type": "-"
    }
   },
   "outputs": [],
   "source": [
    "pitch.get_frame(20).candidates"
   ]
  },
  {
   "cell_type": "code",
   "execution_count": null,
   "id": "87540d5a",
   "metadata": {
    "slideshow": {
     "slide_type": "-"
    }
   },
   "outputs": [],
   "source": [
    "pitch.get_frame(20).candidates[0].frequency"
   ]
  },
  {
   "cell_type": "markdown",
   "id": "ca0a8e98",
   "metadata": {
    "slideshow": {
     "slide_type": "subslide"
    }
   },
   "source": [
    "![praat_pitch_candidates.png](images/praat_pitch_candidates.png)"
   ]
  },
  {
   "cell_type": "code",
   "execution_count": null,
   "id": "48667707",
   "metadata": {
    "slideshow": {
     "slide_type": "subslide"
    }
   },
   "outputs": [],
   "source": [
    "pitch.selected_array"
   ]
  },
  {
   "cell_type": "code",
   "execution_count": null,
   "id": "d3fafbf6",
   "metadata": {
    "slideshow": {
     "slide_type": "subslide"
    }
   },
   "outputs": [],
   "source": [
    "def draw_pitch(ax, pitch):\n",
    "    # Extract selected pitch contour, and\n",
    "    # replace unvoiced samples by NaN to not plot\n",
    "    pitch_values = pitch.selected_array['frequency']\n",
    "    pitch_values[pitch_values==0] = np.nan\n",
    "    ax.plot(pitch.xs(), pitch_values, 'o', markersize=5, color='w')\n",
    "    ax.plot(pitch.xs(), pitch_values, 'o', markersize=2)\n",
    "    ax.grid(False)\n",
    "    ax.set_ylim(0, pitch.ceiling)\n",
    "    ax.set_ylabel(\"fundamental frequency (Hz)\")"
   ]
  },
  {
   "cell_type": "code",
   "execution_count": null,
   "id": "f23c46be",
   "metadata": {
    "slideshow": {
     "slide_type": "-"
    }
   },
   "outputs": [],
   "source": [
    "fig, ax = plt.subplots()\n",
    "draw_spectrogram(ax, spectrogram)\n",
    "ax_twin = ax.twinx()\n",
    "draw_pitch(ax_twin, pitch)\n",
    "ax.set_xlim(sound.xmin, sound.xmax)"
   ]
  },
  {
   "cell_type": "markdown",
   "id": "c75d0139",
   "metadata": {
    "slideshow": {
     "slide_type": "subslide"
    }
   },
   "source": [
    "### Synchronisation point\n",
    "\n",
    "- https://parselmouth.readthedocs.io/en/stable/examples/plotting.html\n",
    "- Play around with styles and colors and colormaps\n",
    "- Plot a formant track"
   ]
  },
  {
   "cell_type": "markdown",
   "id": "f4b0d03a",
   "metadata": {
    "slideshow": {
     "slide_type": "slide"
    }
   },
   "source": [
    "## Accessing \"raw\" Praat commands"
   ]
  },
  {
   "cell_type": "markdown",
   "id": "909bcadb",
   "metadata": {
    "slideshow": {
     "slide_type": "subslide"
    }
   },
   "source": [
    "Creating a Python interface is quite a bit of work. See source ;-)\n",
    "\n",
    "What to do when no Python class exists?"
   ]
  },
  {
   "cell_type": "code",
   "execution_count": null,
   "id": "c2a29778",
   "metadata": {
    "slideshow": {
     "slide_type": "fragment"
    }
   },
   "outputs": [],
   "source": [
    "manipulation = parselmouth.praat.call(sound, \"To Manipulation\", 0.01, 75, 600)\n",
    "manipulation"
   ]
  },
  {
   "cell_type": "code",
   "execution_count": null,
   "id": "89570ce3",
   "metadata": {
    "slideshow": {
     "slide_type": "-"
    }
   },
   "outputs": [],
   "source": [
    "type(manipulation), type(sound)"
   ]
  },
  {
   "cell_type": "code",
   "execution_count": null,
   "id": "fbfe4bc7",
   "metadata": {
    "slideshow": {
     "slide_type": "-"
    }
   },
   "outputs": [],
   "source": [
    "parselmouth.Sound.__mro__"
   ]
  },
  {
   "cell_type": "code",
   "execution_count": null,
   "id": "2980c1de",
   "metadata": {
    "slideshow": {
     "slide_type": "subslide"
    }
   },
   "outputs": [],
   "source": [
    "help(parselmouth.Data)"
   ]
  },
  {
   "cell_type": "code",
   "execution_count": null,
   "id": "8a11602e",
   "metadata": {
    "slideshow": {
     "slide_type": "subslide"
    }
   },
   "outputs": [],
   "source": [
    "manipulation.class_name"
   ]
  },
  {
   "cell_type": "markdown",
   "id": "1c5eb5c4",
   "metadata": {
    "slideshow": {
     "slide_type": "-"
    }
   },
   "source": [
    "`parselmouth.Data` is the base class of all Praat objects (actually `parselmouth.Thing`; it's complicated).\n",
    "\n",
    "When the full type is not exposed in Parselmouth, you get a `parselmouth.Data`."
   ]
  },
  {
   "cell_type": "code",
   "execution_count": null,
   "id": "63ccb441",
   "metadata": {
    "slideshow": {
     "slide_type": "fragment"
    }
   },
   "outputs": [],
   "source": [
    "?parselmouth.praat.call"
   ]
  },
  {
   "cell_type": "markdown",
   "id": "4042e486",
   "metadata": {
    "slideshow": {
     "slide_type": "-"
    }
   },
   "source": [
    "https://parselmouth.readthedocs.io/en/stable/api_reference.html#parselmouth.praat.call"
   ]
  }
 ],
 "metadata": {
  "celltoolbar": "Slideshow",
  "kernelspec": {
   "display_name": "Python 3 (ipykernel)",
   "language": "python",
   "name": "python3"
  },
  "language_info": {
   "codemirror_mode": {
    "name": "ipython",
    "version": 3
   },
   "file_extension": ".py",
   "mimetype": "text/x-python",
   "name": "python",
   "nbconvert_exporter": "python",
   "pygments_lexer": "ipython3",
   "version": "3.9.7"
  },
  "rise": {
   "theme": "white"
  }
 },
 "nbformat": 4,
 "nbformat_minor": 5
}
